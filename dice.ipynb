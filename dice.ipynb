{
 "cells": [
  {
   "cell_type": "code",
   "execution_count": 1,
   "metadata": {
    "collapsed": true
   },
   "outputs": [],
   "source": [
    "import numpy as np"
   ]
  },
  {
   "cell_type": "code",
   "execution_count": 8,
   "metadata": {
    "collapsed": true
   },
   "outputs": [],
   "source": [
    "#Recursion"
   ]
  },
  {
   "cell_type": "code",
   "execution_count": 9,
   "metadata": {
    "collapsed": true
   },
   "outputs": [],
   "source": [
    "def fibo(n):\n",
    "    if n <= 1:\n",
    "        return n\n",
    "    else:\n",
    "        return fibbo(n - 1) + fibbo(n - 2)"
   ]
  },
  {
   "cell_type": "code",
   "execution_count": 10,
   "metadata": {},
   "outputs": [
    {
     "data": {
      "text/plain": [
       "13"
      ]
     },
     "execution_count": 10,
     "metadata": {},
     "output_type": "execute_result"
    }
   ],
   "source": [
    "n = fibo(7)\n",
    "n"
   ]
  },
  {
   "cell_type": "code",
   "execution_count": 11,
   "metadata": {
    "collapsed": true
   },
   "outputs": [],
   "source": [
    "#Dynamic Programming"
   ]
  },
  {
   "cell_type": "code",
   "execution_count": 12,
   "metadata": {
    "collapsed": true
   },
   "outputs": [],
   "source": [
    "def fibo_dynamic(n):\n",
    "    fib = np.zeros(n+1)\n",
    "    i = 0\n",
    "    fib[1] = 1\n",
    "    for j in range(2, n+1):\n",
    "        fib[j] = fib[j - 1] + fib[j - 2]\n",
    "    return fib[n]\n",
    "    "
   ]
  },
  {
   "cell_type": "code",
   "execution_count": 13,
   "metadata": {},
   "outputs": [
    {
     "data": {
      "text/plain": [
       "13.0"
      ]
     },
     "execution_count": 13,
     "metadata": {},
     "output_type": "execute_result"
    }
   ],
   "source": [
    "n = fibo_dynamic(7)\n",
    "n\n"
   ]
  },
  {
   "cell_type": "code",
   "execution_count": 14,
   "metadata": {
    "collapsed": true
   },
   "outputs": [],
   "source": [
    "#Space Optimized Method"
   ]
  },
  {
   "cell_type": "code",
   "execution_count": 37,
   "metadata": {},
   "outputs": [],
   "source": [
    "def fibo_space(n):\n",
    "    if n == 0:\n",
    "        return n\n",
    "    a = 0\n",
    "    b = 1\n",
    "    for i in range(2, n+1):\n",
    "        c = a + b\n",
    "        a = b\n",
    "        b = c\n",
    "    return b"
   ]
  },
  {
   "cell_type": "code",
   "execution_count": 38,
   "metadata": {},
   "outputs": [
    {
     "data": {
      "text/plain": [
       "13"
      ]
     },
     "execution_count": 38,
     "metadata": {},
     "output_type": "execute_result"
    }
   ],
   "source": [
    "n = fibo_space(7)\n",
    "n"
   ]
  },
  {
   "cell_type": "code",
   "execution_count": 71,
   "metadata": {},
   "outputs": [],
   "source": [
    "def dice_comb(d, n, x):\n",
    "    table = np.zeros((n+1, x+1))\n",
    "    tmp = 0\n",
    "    if d < x:\n",
    "        tmp = d\n",
    "    else:\n",
    "        tmp = x\n",
    "    for j in range(1, tmp+1):\n",
    "        table[1][j] = 1\n",
    "    \n",
    "    for i in range(1, n+1):\n",
    "        for j in range(1, x+1):\n",
    "            for k in range(1,  j):\n",
    "                table[i][j] += table[i-1][j-k]\n",
    "    return table[n][x]\n",
    "    "
   ]
  },
  {
   "cell_type": "code",
   "execution_count": 72,
   "metadata": {},
   "outputs": [],
   "source": [
    "count = dice_comb(6, 1, 8)"
   ]
  },
  {
   "cell_type": "code",
   "execution_count": 73,
   "metadata": {},
   "outputs": [
    {
     "data": {
      "text/plain": [
       "0.0"
      ]
     },
     "execution_count": 73,
     "metadata": {},
     "output_type": "execute_result"
    }
   ],
   "source": [
    "count"
   ]
  },
  {
   "cell_type": "code",
   "execution_count": 118,
   "metadata": {
    "collapsed": true
   },
   "outputs": [],
   "source": [
    "def manners(S, m , n):\n",
    "    table = [[0 for x in range(m)] for x in range(n + 1)]\n",
    "    print(table)\n",
    "    # Fill the enteries for 0 value case (n = 0)\n",
    "    for i in range(m):\n",
    "        table[0][i] = 1\n",
    "\n",
    "    # Fill rest of the table enteries in bottom up manner\n",
    "    for i in range(1, n + 1):\n",
    "        for j in range(m):\n",
    "            # Count of solutions including S[j]\n",
    "            x = table[i - S[j]][j] if i - S[j] >= 0 else 0\n",
    "\n",
    "            # Count of solutions excluding S[j]\n",
    "            y = table[i][j - 1] if j >= 1 else 0\n",
    "\n",
    "            # total count\n",
    "            table[i][j] = x + y\n",
    "\n",
    "    return table[n][m - 1]\n",
    "        "
   ]
  },
  {
   "cell_type": "code",
   "execution_count": 120,
   "metadata": {},
   "outputs": [
    {
     "name": "stdout",
     "output_type": "stream",
     "text": [
      "[[0, 0, 0, 0], [0, 0, 0, 0], [0, 0, 0, 0], [0, 0, 0, 0], [0, 0, 0, 0]]\n"
     ]
    },
    {
     "data": {
      "text/plain": [
       "5"
      ]
     },
     "execution_count": 120,
     "metadata": {},
     "output_type": "execute_result"
    }
   ],
   "source": [
    "\n",
    "S = [1, 2, 3, 4, 5, 6]\n",
    "count = manners(S, 4, 4)\n",
    "count"
   ]
  },
  {
   "cell_type": "code",
   "execution_count": 122,
   "metadata": {},
   "outputs": [],
   "source": [
    "tries = np.zeros(1000)\n",
    "tries[0] = 1\n",
    "for i in range(1, 1000):\n",
    "    for j in range(1, 6+1):\n",
    "        if i - j >= 0:\n",
    "            tries[i] += tries[i - j]"
   ]
  },
  {
   "cell_type": "code",
   "execution_count": 131,
   "metadata": {},
   "outputs": [
    {
     "name": "stdout",
     "output_type": "stream",
     "text": [
      "[1, 1, 2, 4, 8, 16, 32, 63, 125, 248]\n"
     ]
    }
   ],
   "source": [
    "print ([int(t) for t in tries[:10]])"
   ]
  },
  {
   "cell_type": "code",
   "execution_count": null,
   "metadata": {
    "collapsed": true
   },
   "outputs": [],
   "source": []
  }
 ],
 "metadata": {
  "kernelspec": {
   "display_name": "Python 3",
   "language": "python",
   "name": "python3"
  },
  "language_info": {
   "codemirror_mode": {
    "name": "ipython",
    "version": 3
   },
   "file_extension": ".py",
   "mimetype": "text/x-python",
   "name": "python",
   "nbconvert_exporter": "python",
   "pygments_lexer": "ipython3",
   "version": "3.6.3"
  }
 },
 "nbformat": 4,
 "nbformat_minor": 2
}
